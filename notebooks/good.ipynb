{
 "cells": [
  {
   "cell_type": "markdown",
   "id": "52c8ed1e-9467-46b1-b1e6-2ef1a1afa280",
   "metadata": {},
   "source": [
    "# Explain this notebook\n",
    "\n",
    "It has some notes"
   ]
  },
  {
   "cell_type": "code",
   "execution_count": 4,
   "id": "2de9009a-fb4b-4b03-8bfd-22ba5d856391",
   "metadata": {},
   "outputs": [],
   "source": [
    "from pathlib import Path\n",
    "import pandas as pd"
   ]
  },
  {
   "cell_type": "code",
   "execution_count": 2,
   "id": "6bd56d96-e9b2-49f8-b76e-d0b4e4dc75c0",
   "metadata": {},
   "outputs": [
    {
     "name": "stdout",
     "output_type": "stream",
     "text": [
      "Hello human, you are at directory /home/tomas/workspaces/dds/example/spring_school_z_cool/notebooks\n"
     ]
    }
   ],
   "source": [
    "this_directory = Path().cwd()\n",
    "print(f\"Hello human, you are at directory {this_directory}\")"
   ]
  }
 ],
 "metadata": {
  "kernelspec": {
   "display_name": "Python 3 (ipykernel)",
   "language": "python",
   "name": "python3"
  },
  "language_info": {
   "codemirror_mode": {
    "name": "ipython",
    "version": 3
   },
   "file_extension": ".py",
   "mimetype": "text/x-python",
   "name": "python",
   "nbconvert_exporter": "python",
   "pygments_lexer": "ipython3",
   "version": "3.12.0"
  }
 },
 "nbformat": 4,
 "nbformat_minor": 5
}
